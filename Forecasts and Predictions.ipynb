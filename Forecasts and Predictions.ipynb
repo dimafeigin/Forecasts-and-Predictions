{
 "cells": [
  {
   "cell_type": "markdown",
   "metadata": {},
   "source": [
    "**Review**\n",
    "\n",
    "Hi, my name is Dmitry and I will be reviewing your project.\n",
    "  \n",
    "You can find my comments in colored markdown cells:\n",
    "  \n",
    "<div class=\"alert alert-success\">\n",
    "  If everything is done successfully.\n",
    "</div>\n",
    "  \n",
    "<div class=\"alert alert-warning\">\n",
    "  If I have some (optional) suggestions, or questions to think about, or general comments.\n",
    "</div>\n",
    "  \n",
    "<div class=\"alert alert-danger\">\n",
    "  If a section requires some corrections. Work can't be accepted with red comments.\n",
    "</div>\n",
    "  \n",
    "Please don't remove my comments, as it will make further review iterations much harder for me.\n",
    "  \n",
    "Feel free to reply to my comments or ask questions using the following template:\n",
    "  \n",
    "<div class=\"alert alert-info\">\n",
    "  For your comments and questions.\n",
    "</div>\n",
    "  \n",
    "First of all, thank you for turning in the project! You did a great job! The project is accepted. Good luck on the final sprint!"
   ]
  },
  {
   "cell_type": "markdown",
   "metadata": {},
   "source": [
    "# Project description\n",
    "The gym chain Model Fitness is developing a customer interaction strategy based on analytical data.\n",
    "in order to fight churn, Model Fitness has digitized a number of its customer profiles. Your task is to analyze them and come up with a customer retention strategy."
   ]
  },
  {
   "cell_type": "markdown",
   "metadata": {},
   "source": [
    "# Business Goal\n",
    "* Learn to predict the probability of churn (for the upcoming month) for each customer\n",
    "* Draw up typical user portraits: Select the most outstanding groups and describe their main features\n",
    "* Analyze the factors that impact churn most\n",
    "* Draw basic conclusions and develop recommendations on how to improve customer service"
   ]
  },
  {
   "cell_type": "markdown",
   "metadata": {},
   "source": [
    "# Data Sources\n",
    "Model Fitness provided you with CSV files containing data on churn for a given month and information on the month preceding it.\n",
    "-------------------------User data for the preceding month--------------------------------\n",
    "\n",
    "* 'Churn' — the fact of churn for the month in question\n",
    "* 'gender'\n",
    "* 'Near_Location' — whether the user lives or works in the neighborhood where the gym is located\n",
    "* 'Partner' — whether the user is an employee of a partner company (the gym has partner companies whose employees get discounts; in those cases the gym stores information on customers' employers)\n",
    "* Promo_friends — whether the user originally signed up through a \"bring a friend\" offer (they used a friend's promo code when paying for their first membership)\n",
    "* 'Phone' — whether the user provided their phone number\n",
    "* 'Age'\n",
    "* 'Lifetime' — the time (in months) since the customer first came to the gym"
   ]
  },
  {
   "cell_type": "markdown",
   "metadata": {},
   "source": [
    "-----------Data from the log of visits and purchases and data on current membership status-----------\n",
    "* 'Contract_period' — 1 month, 3 months, 6 months, or 1 year\n",
    "* 'Month_to_end_contract' — the months remaining until the contract expires\n",
    "* 'Group_visits' — whether the user takes part in group sessions\n",
    "* 'Avg_class_frequency_total' — average frequency of visits per week over the customer's lifetime\n",
    "* 'Avg_class_frequency_current_month' — average frequency of visits per week over the preceding month\n",
    "* 'Avg_additional_charges_total' — the total amount of money spent on other gym services: cafe, athletic goods, cosmetics, massages, etc."
   ]
  },
  {
   "cell_type": "code",
   "execution_count": 1,
   "metadata": {},
   "outputs": [],
   "source": [
    "import pandas as pd\n",
    "import numpy as np\n",
    "import seaborn as sns\n",
    "import matplotlib.pyplot as plt\n",
    "import matplotlib.patches as mpatches\n",
    "\n",
    "from sklearn.linear_model import LogisticRegression\n",
    "from sklearn.ensemble import RandomForestClassifier\n",
    "from sklearn.metrics import silhouette_score, roc_auc_score,\\\n",
    "    precision_score, recall_score, f1_score, accuracy_score, classification_report, confusion_matrix\n",
    "from scipy.cluster.hierarchy import dendrogram, linkage\n",
    "from sklearn.preprocessing import StandardScaler\n",
    "from sklearn.cluster import KMeans\n",
    "from sklearn.model_selection import train_test_split\n",
    "\n",
    "import itertools\n",
    "import warnings\n",
    "warnings.filterwarnings('ignore')"
   ]
  },
  {
   "cell_type": "markdown",
   "metadata": {},
   "source": [
    "## Step Download the data "
   ]
  },
  {
   "cell_type": "code",
   "execution_count": 2,
   "metadata": {},
   "outputs": [],
   "source": [
    "df =pd.read_csv('/datasets/gym_churn_us.csv')"
   ]
  },
  {
   "cell_type": "markdown",
   "metadata": {},
   "source": [
    "##  Carry out exploratory data analysis (EDA)"
   ]
  },
  {
   "cell_type": "code",
   "execution_count": 3,
   "metadata": {},
   "outputs": [
    {
     "data": {
      "text/html": [
       "<div>\n",
       "<style scoped>\n",
       "    .dataframe tbody tr th:only-of-type {\n",
       "        vertical-align: middle;\n",
       "    }\n",
       "\n",
       "    .dataframe tbody tr th {\n",
       "        vertical-align: top;\n",
       "    }\n",
       "\n",
       "    .dataframe thead th {\n",
       "        text-align: right;\n",
       "    }\n",
       "</style>\n",
       "<table border=\"1\" class=\"dataframe\">\n",
       "  <thead>\n",
       "    <tr style=\"text-align: right;\">\n",
       "      <th></th>\n",
       "      <th>count</th>\n",
       "      <th>mean</th>\n",
       "      <th>std</th>\n",
       "      <th>min</th>\n",
       "      <th>25%</th>\n",
       "      <th>50%</th>\n",
       "      <th>75%</th>\n",
       "      <th>max</th>\n",
       "    </tr>\n",
       "  </thead>\n",
       "  <tbody>\n",
       "    <tr>\n",
       "      <th>gender</th>\n",
       "      <td>4000.0</td>\n",
       "      <td>0.510250</td>\n",
       "      <td>0.499957</td>\n",
       "      <td>0.000000</td>\n",
       "      <td>0.000000</td>\n",
       "      <td>1.000000</td>\n",
       "      <td>1.000000</td>\n",
       "      <td>1.000000</td>\n",
       "    </tr>\n",
       "    <tr>\n",
       "      <th>Near_Location</th>\n",
       "      <td>4000.0</td>\n",
       "      <td>0.845250</td>\n",
       "      <td>0.361711</td>\n",
       "      <td>0.000000</td>\n",
       "      <td>1.000000</td>\n",
       "      <td>1.000000</td>\n",
       "      <td>1.000000</td>\n",
       "      <td>1.000000</td>\n",
       "    </tr>\n",
       "    <tr>\n",
       "      <th>Partner</th>\n",
       "      <td>4000.0</td>\n",
       "      <td>0.486750</td>\n",
       "      <td>0.499887</td>\n",
       "      <td>0.000000</td>\n",
       "      <td>0.000000</td>\n",
       "      <td>0.000000</td>\n",
       "      <td>1.000000</td>\n",
       "      <td>1.000000</td>\n",
       "    </tr>\n",
       "    <tr>\n",
       "      <th>Promo_friends</th>\n",
       "      <td>4000.0</td>\n",
       "      <td>0.308500</td>\n",
       "      <td>0.461932</td>\n",
       "      <td>0.000000</td>\n",
       "      <td>0.000000</td>\n",
       "      <td>0.000000</td>\n",
       "      <td>1.000000</td>\n",
       "      <td>1.000000</td>\n",
       "    </tr>\n",
       "    <tr>\n",
       "      <th>Phone</th>\n",
       "      <td>4000.0</td>\n",
       "      <td>0.903500</td>\n",
       "      <td>0.295313</td>\n",
       "      <td>0.000000</td>\n",
       "      <td>1.000000</td>\n",
       "      <td>1.000000</td>\n",
       "      <td>1.000000</td>\n",
       "      <td>1.000000</td>\n",
       "    </tr>\n",
       "    <tr>\n",
       "      <th>Contract_period</th>\n",
       "      <td>4000.0</td>\n",
       "      <td>4.681250</td>\n",
       "      <td>4.549706</td>\n",
       "      <td>1.000000</td>\n",
       "      <td>1.000000</td>\n",
       "      <td>1.000000</td>\n",
       "      <td>6.000000</td>\n",
       "      <td>12.000000</td>\n",
       "    </tr>\n",
       "    <tr>\n",
       "      <th>Group_visits</th>\n",
       "      <td>4000.0</td>\n",
       "      <td>0.412250</td>\n",
       "      <td>0.492301</td>\n",
       "      <td>0.000000</td>\n",
       "      <td>0.000000</td>\n",
       "      <td>0.000000</td>\n",
       "      <td>1.000000</td>\n",
       "      <td>1.000000</td>\n",
       "    </tr>\n",
       "    <tr>\n",
       "      <th>Age</th>\n",
       "      <td>4000.0</td>\n",
       "      <td>29.184250</td>\n",
       "      <td>3.258367</td>\n",
       "      <td>18.000000</td>\n",
       "      <td>27.000000</td>\n",
       "      <td>29.000000</td>\n",
       "      <td>31.000000</td>\n",
       "      <td>41.000000</td>\n",
       "    </tr>\n",
       "    <tr>\n",
       "      <th>Avg_additional_charges_total</th>\n",
       "      <td>4000.0</td>\n",
       "      <td>146.943728</td>\n",
       "      <td>96.355602</td>\n",
       "      <td>0.148205</td>\n",
       "      <td>68.868830</td>\n",
       "      <td>136.220159</td>\n",
       "      <td>210.949625</td>\n",
       "      <td>552.590740</td>\n",
       "    </tr>\n",
       "    <tr>\n",
       "      <th>Month_to_end_contract</th>\n",
       "      <td>4000.0</td>\n",
       "      <td>4.322750</td>\n",
       "      <td>4.191297</td>\n",
       "      <td>1.000000</td>\n",
       "      <td>1.000000</td>\n",
       "      <td>1.000000</td>\n",
       "      <td>6.000000</td>\n",
       "      <td>12.000000</td>\n",
       "    </tr>\n",
       "    <tr>\n",
       "      <th>Lifetime</th>\n",
       "      <td>4000.0</td>\n",
       "      <td>3.724750</td>\n",
       "      <td>3.749267</td>\n",
       "      <td>0.000000</td>\n",
       "      <td>1.000000</td>\n",
       "      <td>3.000000</td>\n",
       "      <td>5.000000</td>\n",
       "      <td>31.000000</td>\n",
       "    </tr>\n",
       "    <tr>\n",
       "      <th>Avg_class_frequency_total</th>\n",
       "      <td>4000.0</td>\n",
       "      <td>1.879020</td>\n",
       "      <td>0.972245</td>\n",
       "      <td>0.000000</td>\n",
       "      <td>1.180875</td>\n",
       "      <td>1.832768</td>\n",
       "      <td>2.536078</td>\n",
       "      <td>6.023668</td>\n",
       "    </tr>\n",
       "    <tr>\n",
       "      <th>Avg_class_frequency_current_month</th>\n",
       "      <td>4000.0</td>\n",
       "      <td>1.767052</td>\n",
       "      <td>1.052906</td>\n",
       "      <td>0.000000</td>\n",
       "      <td>0.963003</td>\n",
       "      <td>1.719574</td>\n",
       "      <td>2.510336</td>\n",
       "      <td>6.146783</td>\n",
       "    </tr>\n",
       "    <tr>\n",
       "      <th>Churn</th>\n",
       "      <td>4000.0</td>\n",
       "      <td>0.265250</td>\n",
       "      <td>0.441521</td>\n",
       "      <td>0.000000</td>\n",
       "      <td>0.000000</td>\n",
       "      <td>0.000000</td>\n",
       "      <td>1.000000</td>\n",
       "      <td>1.000000</td>\n",
       "    </tr>\n",
       "  </tbody>\n",
       "</table>\n",
       "</div>"
      ],
      "text/plain": [
       "                                    count        mean        std        min  \\\n",
       "gender                             4000.0    0.510250   0.499957   0.000000   \n",
       "Near_Location                      4000.0    0.845250   0.361711   0.000000   \n",
       "Partner                            4000.0    0.486750   0.499887   0.000000   \n",
       "Promo_friends                      4000.0    0.308500   0.461932   0.000000   \n",
       "Phone                              4000.0    0.903500   0.295313   0.000000   \n",
       "Contract_period                    4000.0    4.681250   4.549706   1.000000   \n",
       "Group_visits                       4000.0    0.412250   0.492301   0.000000   \n",
       "Age                                4000.0   29.184250   3.258367  18.000000   \n",
       "Avg_additional_charges_total       4000.0  146.943728  96.355602   0.148205   \n",
       "Month_to_end_contract              4000.0    4.322750   4.191297   1.000000   \n",
       "Lifetime                           4000.0    3.724750   3.749267   0.000000   \n",
       "Avg_class_frequency_total          4000.0    1.879020   0.972245   0.000000   \n",
       "Avg_class_frequency_current_month  4000.0    1.767052   1.052906   0.000000   \n",
       "Churn                              4000.0    0.265250   0.441521   0.000000   \n",
       "\n",
       "                                         25%         50%         75%  \\\n",
       "gender                              0.000000    1.000000    1.000000   \n",
       "Near_Location                       1.000000    1.000000    1.000000   \n",
       "Partner                             0.000000    0.000000    1.000000   \n",
       "Promo_friends                       0.000000    0.000000    1.000000   \n",
       "Phone                               1.000000    1.000000    1.000000   \n",
       "Contract_period                     1.000000    1.000000    6.000000   \n",
       "Group_visits                        0.000000    0.000000    1.000000   \n",
       "Age                                27.000000   29.000000   31.000000   \n",
       "Avg_additional_charges_total       68.868830  136.220159  210.949625   \n",
       "Month_to_end_contract               1.000000    1.000000    6.000000   \n",
       "Lifetime                            1.000000    3.000000    5.000000   \n",
       "Avg_class_frequency_total           1.180875    1.832768    2.536078   \n",
       "Avg_class_frequency_current_month   0.963003    1.719574    2.510336   \n",
       "Churn                               0.000000    0.000000    1.000000   \n",
       "\n",
       "                                          max  \n",
       "gender                               1.000000  \n",
       "Near_Location                        1.000000  \n",
       "Partner                              1.000000  \n",
       "Promo_friends                        1.000000  \n",
       "Phone                                1.000000  \n",
       "Contract_period                     12.000000  \n",
       "Group_visits                         1.000000  \n",
       "Age                                 41.000000  \n",
       "Avg_additional_charges_total       552.590740  \n",
       "Month_to_end_contract               12.000000  \n",
       "Lifetime                            31.000000  \n",
       "Avg_class_frequency_total            6.023668  \n",
       "Avg_class_frequency_current_month    6.146783  \n",
       "Churn                                1.000000  "
      ]
     },
     "execution_count": 3,
     "metadata": {},
     "output_type": "execute_result"
    }
   ],
   "source": [
    "df.describe().transpose()"
   ]
  },
  {
   "cell_type": "markdown",
   "metadata": {},
   "source": [
    "Most of the variables are binary and won't need any additional changes. Here is a rough summary:\n",
    "  * Roughly equally divided by gender\n",
    "  * Users are mostly in their 20s. Ages range from 18 to 41 (average = 29 / standard dev = 3).\n",
    "  * Average user stays with the gym for 3 months before churning\n",
    "  * Low visits: Average user visits the gym 2 times per week\n",
    "Of special note are the near location (84%) and phone (90%) variables of which given their binary value are heavily skewed. We'll keep this in mind as we might need to drop them--won't provide as much info. and might distort result."
   ]
  },
  {
   "cell_type": "markdown",
   "metadata": {},
   "source": [
    "<div class=\"alert alert-success\">\n",
    "<b>Reviewer's comment</b>\n",
    "\n",
    "Great!\n",
    "\n",
    "</div>"
   ]
  },
  {
   "cell_type": "code",
   "execution_count": 4,
   "metadata": {},
   "outputs": [],
   "source": [
    "def modifyChart(ax,\n",
    "                columnLabel,\n",
    "                labelSize,\n",
    "                titleSize=False,\n",
    "                maxs=False,\n",
    "                xLabel='',\n",
    "                yLabel=''):\n",
    "    \"\"\"\n",
    "    Function that takes in graph variables for the purpose of customizing \n",
    "    their default settings (ie. setting label size)\n",
    "    \"\"\"\n",
    "    if titleSize != False:\n",
    "        ax.set_title(columnLabel,\n",
    "                     fontsize=titleSize,\n",
    "                     fontweight='semibold',\n",
    "                     pad=10)\n",
    "    else:\n",
    "        ax.set_title(columnLabel)\n",
    "\n",
    "    # spines\n",
    "    sns.despine()\n",
    "    ax.spines['bottom'].set_color('gray')\n",
    "    ax.spines['left'].set_color('lightgrey')\n",
    "\n",
    "    # labels\n",
    "    ax.set_ylabel(yLabel, labelpad=5, fontsize=16)\n",
    "    ax.set_xlabel(xLabel, labelpad=5, fontsize=16)\n",
    "\n",
    "    # tick settings\n",
    "    ax.tick_params(labelsize=labelSize)\n",
    "    ax.tick_params(axis='both', left=False, bottom=False)\n",
    "    ax.grid(axis='y', alpha=.4)\n",
    "\n",
    "    # if a max value is passed\n",
    "    if maxs:\n",
    "        midCenterQuarter = (ax.get_yticks()[1] - ax.get_yticks()[0]) / 4  # to ensure that the tick labels don't overlap\n",
    "        \n",
    "        ax.set_ylim(0, maxs)  # set the yticks\n",
    "        # keep all except last  tick - ensure that the ticks don't overlap\n",
    "        # add the last tick value\n",
    "        y_ticks = np.append(\n",
    "            [i for i in ax.get_yticks() if i < (maxs - midCenterQuarter)],[maxs])\n",
    "        # set the modified y ticks\n",
    "        ax.set_yticks(y_ticks)"
   ]
  },
  {
   "cell_type": "markdown",
   "metadata": {},
   "source": [
    "# Plots: Exploring Variables\n",
    "Plotting binary variables using bar plots."
   ]
  },
  {
   "cell_type": "code",
   "execution_count": 5,
   "metadata": {},
   "outputs": [
    {
     "data": {
      "text/plain": [
       "7"
      ]
     },
     "execution_count": 5,
     "metadata": {},
     "output_type": "execute_result"
    }
   ],
   "source": [
    "binary = [col for col in df.columns if df[col].nunique() <= 2]\n",
    "len(binary)"
   ]
  },
  {
   "cell_type": "code",
   "execution_count": 6,
   "metadata": {
    "scrolled": false
   },
   "outputs": [
    {
     "data": {
      "image/png": "[encoded data removed]",
      "text/plain": [
       "<Figure size 1080x864 with 8 Axes>"
      ]
     },
     "metadata": {
      "needs_background": "light"
     },
     "output_type": "display_data"
    }
   ],
   "source": [
    "fig, ax = plt.subplots(figsize=(15, 12), ncols=2, nrows=4)\n",
    "\n",
    "axes = [(row, col) for row in range(4) for col in range(2)]\n",
    "\n",
    "for col, i in zip(binary, axes):\n",
    "    #unique values and their counts per column (normalized -> %)\n",
    "    toChart = df[col].value_counts(normalize=True)\n",
    "    #bar plot\n",
    "    toChart.plot.bar(ax=ax[i], rot=0, alpha=.6)\n",
    "    #calculate maximum value\n",
    "    maxs = max(df[col].value_counts(normalize=True))\n",
    "    #modify chart\n",
    "    modifyChart(ax[i], col, 12, maxs=maxs)\n",
    "    #set y tick values in % format\n",
    "    ax[i].set_yticklabels(\n",
    "        [\"{}%\".format(int(i * 100)) for i in ax[i].get_yticks()[:]])\n",
    "\n",
    "#turn off the last chart value as it's empty\n",
    "plt.suptitle('Binary Variables',fontsize=25,y=1.03)\n",
    "ax[axes[-1]].axis('off')\n",
    "plt.tight_layout()"
   ]
  },
  {
   "cell_type": "markdown",
   "metadata": {},
   "source": [
    " **Per the graph:**\n",
    "\n",
    " * 58% of users take part in group sessions\n",
    " * 84% live or work near the neighborhood\n",
    " * Roughly 50% are an employee of a partner company.\n",
    " * 1/3 signed up through a \"bring a friend\" offer\n",
    " \n",
    "In addition, it looks like the phone variable will not be needed given it's overwhelming 1 relative value as well as it's low relevancy to the target variable. We'll tolerate the location variables as it has > 15% of values placed in the least common unique value and might provided some useful info (it's expected that the closer the gym location, the less the churn rate).."
   ]
  },
  {
   "cell_type": "code",
   "execution_count": 7,
   "metadata": {},
   "outputs": [],
   "source": [
    "df.drop(columns='Phone',inplace=True)"
   ]
  },
  {
   "cell_type": "code",
   "execution_count": 8,
   "metadata": {},
   "outputs": [
    {
     "data": {
      "text/plain": [
       "7"
      ]
     },
     "execution_count": 8,
     "metadata": {},
     "output_type": "execute_result"
    }
   ],
   "source": [
    "nonBinary = [col for col in df.columns if df[col].nunique() > 2]\n",
    "len(nonBinary)"
   ]
  },
  {
   "cell_type": "code",
   "execution_count": 9,
   "metadata": {},
   "outputs": [
    {
     "data": {
      "text/plain": [
       "(0.0, 1.0, 0.0, 1.0)"
      ]
     },
     "execution_count": 9,
     "metadata": {},
     "output_type": "execute_result"
    },
    {
     "data": {
      "image/png": "[encoded data removed]",
      "text/plain": [
       "<Figure size 1080x864 with 8 Axes>"
      ]
     },
     "metadata": {
      "needs_background": "light"
     },
     "output_type": "display_data"
    }
   ],
   "source": [
    "fig, ax = plt.subplots(figsize=(15, 12), ncols=2, nrows=4)\n",
    "\n",
    "axes = [(row, col) for row in range(4) for col in range(2)]\n",
    "\n",
    "for col, i in zip(nonBinary, axes):\n",
    "    sns.distplot(df[col], ax=ax[i])\n",
    "    modifyChart(ax[i], col, 12)\n",
    "\n",
    "    ax[i].axvline(df[col].median(), color='blue')\n",
    "    ax[i].axvline(df[col].mean(), color='black')\n",
    "\n",
    "    #referring to axes in order to use the pyplot module\n",
    "    plt.sca(ax[i])\n",
    "    #custom legend\n",
    "    azure_patch = mpatches.Patch(color='blue', label='Median')\n",
    "    orange_patch = mpatches.Patch(color='black', label='Mean')\n",
    "    plt.legend(handles=[azure_patch, orange_patch])\n",
    "plt.suptitle('Non-Binary Variables - Density Plots',fontsize=25,y=1.03)\n",
    "plt.tight_layout()\n",
    "ax[axes[-1]].axis('off')"
   ]
  },
  {
   "cell_type": "markdown",
   "metadata": {},
   "source": [
    "**Summary of the graphs:**\n",
    "\n",
    "* Most users are relatively new: Roughly half of users have 4 months or less with the company with some long time users having stayed as member for 12 to 30 months as indicated in the right tail of the distribution.\n",
    "* Month to end contract and contract period tell the same story especially considering that:\n",
    "* 85% of users have 1 month contract\n",
    "\n",
    "* Avg. weekly visits for current month and lifetime seem to have high correlations with each other. This makes sense as most users have 1 month contracts."
   ]
  },
  {
   "cell_type": "markdown",
   "metadata": {},
   "source": [
    "# Plots: Features vs. Independent\n"
   ]
  },
  {
   "cell_type": "code",
   "execution_count": 10,
   "metadata": {},
   "outputs": [
    {
     "data": {
      "text/plain": [
       "13"
      ]
     },
     "execution_count": 10,
     "metadata": {},
     "output_type": "execute_result"
    }
   ],
   "source": [
    "len(df.columns)"
   ]
  },
  {
   "cell_type": "code",
   "execution_count": 11,
   "metadata": {},
   "outputs": [
    {
     "data": {
      "image/png": "[encoded data removed]",
      "text/plain": [
       "<Figure size 1080x864 with 12 Axes>"
      ]
     },
     "metadata": {
      "needs_background": "light"
     },
     "output_type": "display_data"
    }
   ],
   "source": [
    "fig, ax = plt.subplots(figsize=(15, 12), ncols=3, nrows=4)\n",
    "\n",
    "axes = [(row, col) for row in range(4) for col in range(3)]\n",
    "\n",
    "#dropping target variable column\n",
    "for col, i in zip(df.drop('Churn', axis=1).columns, axes):\n",
    "    #skipping this column -> displayed value counts in x axis\n",
    "    if col == 'avgWeeklyVisitsCurrentMonth': continue\n",
    "\n",
    "    #logist regression plots\n",
    "    sns.regplot(df[col], df['Churn'], ci=None, logistic=True, ax=ax[i])\n",
    "    modifyChart(ax[i], col, 12)\n",
    "\n",
    "ax[axes[-1]].axis('off')\n",
    "plt.tight_layout()"
   ]
  },
  {
   "cell_type": "markdown",
   "metadata": {},
   "source": [
    "<div class=\"alert alert-success\">\n",
    "<b>Reviewer's comment</b>\n",
    "\n",
    "Alright, you explored the data on the whole a bit before comparing the two groups!\n",
    "\n",
    "</div>"
   ]
  },
  {
   "cell_type": "markdown",
   "metadata": {},
   "source": [
    "# Bar Histograms - Churn vs No Churn Variable comparisons"
   ]
  },
  {
   "cell_type": "code",
   "execution_count": 12,
   "metadata": {},
   "outputs": [
    {
     "name": "stdout",
     "output_type": "stream",
     "text": [
      "12\n",
      "Int64Index([0, 1], dtype='int64', name='Churn')\n"
     ]
    }
   ],
   "source": [
    "toChart = df.groupby(\"Churn\").mean()\n",
    "\n",
    "#how many columns and unique values\n",
    "print(len(toChart.columns))\n",
    "print(toChart.index)"
   ]
  },
  {
   "cell_type": "code",
   "execution_count": 13,
   "metadata": {},
   "outputs": [
    {
     "data": {
      "text/html": [
       "<div>\n",
       "<style scoped>\n",
       "    .dataframe tbody tr th:only-of-type {\n",
       "        vertical-align: middle;\n",
       "    }\n",
       "\n",
       "    .dataframe tbody tr th {\n",
       "        vertical-align: top;\n",
       "    }\n",
       "\n",
       "    .dataframe thead th {\n",
       "        text-align: right;\n",
       "    }\n",
       "</style>\n",
       "<table border=\"1\" class=\"dataframe\">\n",
       "  <thead>\n",
       "    <tr style=\"text-align: right;\">\n",
       "      <th></th>\n",
       "      <th>gender</th>\n",
       "      <th>Near_Location</th>\n",
       "      <th>Partner</th>\n",
       "      <th>Promo_friends</th>\n",
       "      <th>Contract_period</th>\n",
       "      <th>Group_visits</th>\n",
       "      <th>Age</th>\n",
       "      <th>Avg_additional_charges_total</th>\n",
       "      <th>Month_to_end_contract</th>\n",
       "      <th>Lifetime</th>\n",
       "      <th>Avg_class_frequency_total</th>\n",
       "      <th>Avg_class_frequency_current_month</th>\n",
       "    </tr>\n",
       "    <tr>\n",
       "      <th>Churn</th>\n",
       "      <th></th>\n",
       "      <th></th>\n",
       "      <th></th>\n",
       "      <th></th>\n",
       "      <th></th>\n",
       "      <th></th>\n",
       "      <th></th>\n",
       "      <th></th>\n",
       "      <th></th>\n",
       "      <th></th>\n",
       "      <th></th>\n",
       "      <th></th>\n",
       "    </tr>\n",
       "  </thead>\n",
       "  <tbody>\n",
       "    <tr>\n",
       "      <th>No Churn</th>\n",
       "      <td>0.510037</td>\n",
       "      <td>0.873086</td>\n",
       "      <td>0.534195</td>\n",
       "      <td>0.353522</td>\n",
       "      <td>5.747193</td>\n",
       "      <td>0.464103</td>\n",
       "      <td>29.976523</td>\n",
       "      <td>158.445715</td>\n",
       "      <td>5.283089</td>\n",
       "      <td>4.711807</td>\n",
       "      <td>2.024876</td>\n",
       "      <td>2.027882</td>\n",
       "    </tr>\n",
       "    <tr>\n",
       "      <th>Churn</th>\n",
       "      <td>0.510839</td>\n",
       "      <td>0.768143</td>\n",
       "      <td>0.355325</td>\n",
       "      <td>0.183789</td>\n",
       "      <td>1.728558</td>\n",
       "      <td>0.268615</td>\n",
       "      <td>26.989632</td>\n",
       "      <td>115.082899</td>\n",
       "      <td>1.662582</td>\n",
       "      <td>0.990575</td>\n",
       "      <td>1.474995</td>\n",
       "      <td>1.044546</td>\n",
       "    </tr>\n",
       "  </tbody>\n",
       "</table>\n",
       "</div>"
      ],
      "text/plain": [
       "            gender  Near_Location   Partner  Promo_friends  Contract_period  \\\n",
       "Churn                                                                         \n",
       "No Churn  0.510037       0.873086  0.534195       0.353522         5.747193   \n",
       "Churn     0.510839       0.768143  0.355325       0.183789         1.728558   \n",
       "\n",
       "          Group_visits        Age  Avg_additional_charges_total  \\\n",
       "Churn                                                             \n",
       "No Churn      0.464103  29.976523                    158.445715   \n",
       "Churn         0.268615  26.989632                    115.082899   \n",
       "\n",
       "          Month_to_end_contract  Lifetime  Avg_class_frequency_total  \\\n",
       "Churn                                                                  \n",
       "No Churn               5.283089  4.711807                   2.024876   \n",
       "Churn                  1.662582  0.990575                   1.474995   \n",
       "\n",
       "          Avg_class_frequency_current_month  \n",
       "Churn                                        \n",
       "No Churn                           2.027882  \n",
       "Churn                              1.044546  "
      ]
     },
     "execution_count": 13,
     "metadata": {},
     "output_type": "execute_result"
    }
   ],
   "source": [
    "toChart = toChart.rename(index={0:'No Churn',1:\"Churn\"})\n",
    "toChart"
   ]
  },
  {
   "cell_type": "code",
   "execution_count": 14,
   "metadata": {},
   "outputs": [
    {
     "data": {
      "image/png": "[encoded data removed]",
      "text/plain": [
       "<Figure size 1080x864 with 12 Axes>"
      ]
     },
     "metadata": {
      "needs_background": "light"
     },
     "output_type": "display_data"
    }
   ],
   "source": [
    "fig, ax = plt.subplots(figsize=(15, 12), ncols=3, nrows=4)\n",
    "axes = [(row, col) for row in range(4) for col in range(3)]\n",
    "\n",
    "for col, i in zip(toChart.columns, axes):\n",
    "    toChart[col].plot.bar(ax=ax[i], rot=0, alpha=.6)\n",
    "\n",
    "    maxs = max(toChart[col])\n",
    "    modifyChart(ax[i], col, 12, maxs=maxs)\n",
    "\n",
    "    ax[i].set_yticklabels([\"{:.1f}\".format(i) for i in ax[i].get_yticks()])\n",
    "\n",
    "plt.suptitle(\"Mean Feature Values - Churn and Not Churn\", fontsize=20, y=1.03)\n",
    "plt.tight_layout()\n"
   ]
  },
  {
   "cell_type": "markdown",
   "metadata": {},
   "source": [
    "we start seeing some interesting patterns. Relative to no churn, churn users are:\n",
    "\n",
    "- less likely to be an employee from a partner company\n",
    "- less likely to enroll through a promotions program\n",
    "- less likely to come from group visits\n",
    "- spend less in additional charges"
   ]
  },
  {
   "cell_type": "markdown",
   "metadata": {},
   "source": [
    "<div class=\"alert alert-warning\">\n",
    "<b>Reviewer's comment</b>\n",
    "\n",
    "Good, you compared the two groups and made some interesting observations! For non-binary features we could get a closer look at the feature distributions in the two groups ([example](https://seaborn.pydata.org/tutorial/distributions.html#conditioning-on-other-variables))\n",
    "\n",
    "</div>"
   ]
  },
  {
   "cell_type": "markdown",
   "metadata": {},
   "source": [
    "Correlation Matrix\n"
   ]
  },
  {
   "cell_type": "code",
   "execution_count": 15,
   "metadata": {},
   "outputs": [
    {
     "data": {
      "text/html": [
       "<div>\n",
       "<style scoped>\n",
       "    .dataframe tbody tr th:only-of-type {\n",
       "        vertical-align: middle;\n",
       "    }\n",
       "\n",
       "    .dataframe tbody tr th {\n",
       "        vertical-align: top;\n",
       "    }\n",
       "\n",
       "    .dataframe thead th {\n",
       "        text-align: right;\n",
       "    }\n",
       "</style>\n",
       "<table border=\"1\" class=\"dataframe\">\n",
       "  <thead>\n",
       "    <tr style=\"text-align: right;\">\n",
       "      <th></th>\n",
       "      <th>gender</th>\n",
       "      <th>Near_Location</th>\n",
       "      <th>Partner</th>\n",
       "      <th>Promo_friends</th>\n",
       "      <th>Contract_period</th>\n",
       "      <th>Group_visits</th>\n",
       "      <th>Age</th>\n",
       "      <th>Avg_additional_charges_total</th>\n",
       "      <th>Month_to_end_contract</th>\n",
       "      <th>Lifetime</th>\n",
       "      <th>Avg_class_frequency_total</th>\n",
       "      <th>Avg_class_frequency_current_month</th>\n",
       "      <th>Churn</th>\n",
       "    </tr>\n",
       "  </thead>\n",
       "  <tbody>\n",
       "    <tr>\n",
       "      <th>gender</th>\n",
       "      <td>1.000000</td>\n",
       "      <td>0.006699</td>\n",
       "      <td>-0.010463</td>\n",
       "      <td>-0.005033</td>\n",
       "      <td>0.000502</td>\n",
       "      <td>0.017879</td>\n",
       "      <td>0.013807</td>\n",
       "      <td>-0.009334</td>\n",
       "      <td>-0.001281</td>\n",
       "      <td>0.013579</td>\n",
       "      <td>0.014620</td>\n",
       "      <td>0.009156</td>\n",
       "      <td>0.000708</td>\n",
       "    </tr>\n",
       "    <tr>\n",
       "      <th>Near_Location</th>\n",
       "      <td>0.006699</td>\n",
       "      <td>1.000000</td>\n",
       "      <td>-0.005119</td>\n",
       "      <td>0.210964</td>\n",
       "      <td>0.150233</td>\n",
       "      <td>0.154728</td>\n",
       "      <td>0.058358</td>\n",
       "      <td>0.040761</td>\n",
       "      <td>0.143961</td>\n",
       "      <td>0.070921</td>\n",
       "      <td>0.043127</td>\n",
       "      <td>0.062664</td>\n",
       "      <td>-0.128098</td>\n",
       "    </tr>\n",
       "    <tr>\n",
       "      <th>Partner</th>\n",
       "      <td>-0.010463</td>\n",
       "      <td>-0.005119</td>\n",
       "      <td>1.000000</td>\n",
       "      <td>0.451960</td>\n",
       "      <td>0.306166</td>\n",
       "      <td>0.022710</td>\n",
       "      <td>0.047480</td>\n",
       "      <td>0.022941</td>\n",
       "      <td>0.294632</td>\n",
       "      <td>0.061229</td>\n",
       "      <td>0.024938</td>\n",
       "      <td>0.045561</td>\n",
       "      <td>-0.157986</td>\n",
       "    </tr>\n",
       "    <tr>\n",
       "      <th>Promo_friends</th>\n",
       "      <td>-0.005033</td>\n",
       "      <td>0.210964</td>\n",
       "      <td>0.451960</td>\n",
       "      <td>1.000000</td>\n",
       "      <td>0.244552</td>\n",
       "      <td>0.120170</td>\n",
       "      <td>0.050113</td>\n",
       "      <td>0.036898</td>\n",
       "      <td>0.239553</td>\n",
       "      <td>0.072721</td>\n",
       "      <td>0.028063</td>\n",
       "      <td>0.053768</td>\n",
       "      <td>-0.162233</td>\n",
       "    </tr>\n",
       "    <tr>\n",
       "      <th>Contract_period</th>\n",
       "      <td>0.000502</td>\n",
       "      <td>0.150233</td>\n",
       "      <td>0.306166</td>\n",
       "      <td>0.244552</td>\n",
       "      <td>1.000000</td>\n",
       "      <td>0.169991</td>\n",
       "      <td>0.138249</td>\n",
       "      <td>0.111445</td>\n",
       "      <td>0.973064</td>\n",
       "      <td>0.170725</td>\n",
       "      <td>0.096211</td>\n",
       "      <td>0.159407</td>\n",
       "      <td>-0.389984</td>\n",
       "    </tr>\n",
       "  </tbody>\n",
       "</table>\n",
       "</div>"
      ],
      "text/plain": [
       "                   gender  Near_Location   Partner  Promo_friends  \\\n",
       "gender           1.000000       0.006699 -0.010463      -0.005033   \n",
       "Near_Location    0.006699       1.000000 -0.005119       0.210964   \n",
       "Partner         -0.010463      -0.005119  1.000000       0.451960   \n",
       "Promo_friends   -0.005033       0.210964  0.451960       1.000000   \n",
       "Contract_period  0.000502       0.150233  0.306166       0.244552   \n",
       "\n",
       "                 Contract_period  Group_visits       Age  \\\n",
       "gender                  0.000502      0.017879  0.013807   \n",
       "Near_Location           0.150233      0.154728  0.058358   \n",
       "Partner                 0.306166      0.022710  0.047480   \n",
       "Promo_friends           0.244552      0.120170  0.050113   \n",
       "Contract_period         1.000000      0.169991  0.138249   \n",
       "\n",
       "                 Avg_additional_charges_total  Month_to_end_contract  \\\n",
       "gender                              -0.009334              -0.001281   \n",
       "Near_Location                        0.040761               0.143961   \n",
       "Partner                              0.022941               0.294632   \n",
       "Promo_friends                        0.036898               0.239553   \n",
       "Contract_period                      0.111445               0.973064   \n",
       "\n",
       "                 Lifetime  Avg_class_frequency_total  \\\n",
       "gender           0.013579                   0.014620   \n",
       "Near_Location    0.070921                   0.043127   \n",
       "Partner          0.061229                   0.024938   \n",
       "Promo_friends    0.072721                   0.028063   \n",
       "Contract_period  0.170725                   0.096211   \n",
       "\n",
       "                 Avg_class_frequency_current_month     Churn  \n",
       "gender                                    0.009156  0.000708  \n",
       "Near_Location                             0.062664 -0.128098  \n",
       "Partner                                   0.045561 -0.157986  \n",
       "Promo_friends                             0.053768 -0.162233  \n",
       "Contract_period                           0.159407 -0.389984  "
      ]
     },
     "execution_count": 15,
     "metadata": {},
     "output_type": "execute_result"
    }
   ],
   "source": [
    "df.corr().head()"
   ]
  },
  {
   "cell_type": "code",
   "execution_count": 16,
   "metadata": {},
   "outputs": [
    {
     "data": {
      "image/png": "[encoded data removed]",
      "text/plain": [
       "<Figure size 1080x576 with 2 Axes>"
      ]
     },
     "metadata": {
      "needs_background": "light"
     },
     "output_type": "display_data"
    }
   ],
   "source": [
    "fig, ax = plt.subplots(figsize=(15, 8))\n",
    "\n",
    "#boolean mask to not diplay duplicatre half\n",
    "mask = np.triu(np.ones_like(df.corr(), dtype=np.bool))\n",
    "\n",
    "sns.heatmap(df.corr(), annot=True, cmap='Greens', mask=mask, fmt='.2f')\n",
    "#get y limits\n",
    "bottom, top = ax.get_ylim()\n",
    "#set y limit and skip last value (empty)-- same for x axis\n",
    "ax.set_ylim(bottom, 1)\n",
    "ax.tick_params(labelsize=13)\n",
    "left, right = ax.get_xlim()\n",
    "ax.set_xlim(left, right - 1)\n",
    "\n",
    "#retrieve and show the first 25 characters\n",
    "ax.set_xticklabels([i.get_text()[:25] for i in ax.get_xticklabels()])\n",
    "ax.tick_params(axis='x', labelrotation=65)\n",
    "plt.title(\"Correlation Matrix\",fontsize=25)\n",
    "plt.show()"
   ]
  },
  {
   "cell_type": "markdown",
   "metadata": {},
   "source": [
    "We see an inverse relationship between the feature variables and target variable.\n",
    "\n",
    "We also see multicollinearity (> 90%) between weekly visits lifetime and current months as well as contract period and month to end contract variables. As mentioned, this is most likely due to the overwhelming (85%) of users who have one-month contracts. Also notice the 0 Pearson correlation coefficient indicating no relationship between the the target variable--it's safe to drop."
   ]
  },
  {
   "cell_type": "markdown",
   "metadata": {},
   "source": [
    "<div class=\"alert alert-warning\">\n",
    "<b>Reviewer's comment</b>\n",
    "\n",
    "Good points! Although you've got to be careful about interpreting 0 correlation as no relationship: it only means there is no linear relation. Consider, for example, a random variable $X$ uniformly disributed on $[-1, 1]$, and $Y = X^2$. Then correlation of $X$ and $Y$ is 0, but there is a clear functional relationship\n",
    "\n",
    "</div>"
   ]
  },
  {
   "cell_type": "code",
   "execution_count": 17,
   "metadata": {},
   "outputs": [
    {
     "data": {
      "text/html": [
       "<div>\n",
       "<style scoped>\n",
       "    .dataframe tbody tr th:only-of-type {\n",
       "        vertical-align: middle;\n",
       "    }\n",
       "\n",
       "    .dataframe tbody tr th {\n",
       "        vertical-align: top;\n",
       "    }\n",
       "\n",
       "    .dataframe thead th {\n",
       "        text-align: right;\n",
       "    }\n",
       "</style>\n",
       "<table border=\"1\" class=\"dataframe\">\n",
       "  <thead>\n",
       "    <tr style=\"text-align: right;\">\n",
       "      <th></th>\n",
       "      <th>gender</th>\n",
       "      <th>Near_Location</th>\n",
       "      <th>Partner</th>\n",
       "      <th>Promo_friends</th>\n",
       "      <th>Contract_period</th>\n",
       "      <th>Group_visits</th>\n",
       "      <th>Age</th>\n",
       "      <th>Avg_additional_charges_total</th>\n",
       "      <th>Month_to_end_contract</th>\n",
       "      <th>Lifetime</th>\n",
       "      <th>Avg_class_frequency_total</th>\n",
       "      <th>Avg_class_frequency_current_month</th>\n",
       "      <th>Churn</th>\n",
       "    </tr>\n",
       "  </thead>\n",
       "  <tbody>\n",
       "    <tr>\n",
       "      <th>0</th>\n",
       "      <td>1</td>\n",
       "      <td>1</td>\n",
       "      <td>1</td>\n",
       "      <td>1</td>\n",
       "      <td>6</td>\n",
       "      <td>1</td>\n",
       "      <td>29</td>\n",
       "      <td>14.227470</td>\n",
       "      <td>5.0</td>\n",
       "      <td>3</td>\n",
       "      <td>0.020398</td>\n",
       "      <td>0.000000</td>\n",
       "      <td>0</td>\n",
       "    </tr>\n",
       "    <tr>\n",
       "      <th>1</th>\n",
       "      <td>0</td>\n",
       "      <td>1</td>\n",
       "      <td>0</td>\n",
       "      <td>0</td>\n",
       "      <td>12</td>\n",
       "      <td>1</td>\n",
       "      <td>31</td>\n",
       "      <td>113.202938</td>\n",
       "      <td>12.0</td>\n",
       "      <td>7</td>\n",
       "      <td>1.922936</td>\n",
       "      <td>1.910244</td>\n",
       "      <td>0</td>\n",
       "    </tr>\n",
       "    <tr>\n",
       "      <th>2</th>\n",
       "      <td>0</td>\n",
       "      <td>1</td>\n",
       "      <td>1</td>\n",
       "      <td>0</td>\n",
       "      <td>1</td>\n",
       "      <td>0</td>\n",
       "      <td>28</td>\n",
       "      <td>129.448479</td>\n",
       "      <td>1.0</td>\n",
       "      <td>2</td>\n",
       "      <td>1.859098</td>\n",
       "      <td>1.736502</td>\n",
       "      <td>0</td>\n",
       "    </tr>\n",
       "    <tr>\n",
       "      <th>3</th>\n",
       "      <td>0</td>\n",
       "      <td>1</td>\n",
       "      <td>1</td>\n",
       "      <td>1</td>\n",
       "      <td>12</td>\n",
       "      <td>1</td>\n",
       "      <td>33</td>\n",
       "      <td>62.669863</td>\n",
       "      <td>12.0</td>\n",
       "      <td>2</td>\n",
       "      <td>3.205633</td>\n",
       "      <td>3.357215</td>\n",
       "      <td>0</td>\n",
       "    </tr>\n",
       "    <tr>\n",
       "      <th>4</th>\n",
       "      <td>1</td>\n",
       "      <td>1</td>\n",
       "      <td>1</td>\n",
       "      <td>1</td>\n",
       "      <td>1</td>\n",
       "      <td>0</td>\n",
       "      <td>26</td>\n",
       "      <td>198.362265</td>\n",
       "      <td>1.0</td>\n",
       "      <td>3</td>\n",
       "      <td>1.113884</td>\n",
       "      <td>1.120078</td>\n",
       "      <td>0</td>\n",
       "    </tr>\n",
       "  </tbody>\n",
       "</table>\n",
       "</div>"
      ],
      "text/plain": [
       "   gender  Near_Location  Partner  Promo_friends  Contract_period  \\\n",
       "0       1              1        1              1                6   \n",
       "1       0              1        0              0               12   \n",
       "2       0              1        1              0                1   \n",
       "3       0              1        1              1               12   \n",
       "4       1              1        1              1                1   \n",
       "\n",
       "   Group_visits  Age  Avg_additional_charges_total  Month_to_end_contract  \\\n",
       "0             1   29                     14.227470                    5.0   \n",
       "1             1   31                    113.202938                   12.0   \n",
       "2             0   28                    129.448479                    1.0   \n",
       "3             1   33                     62.669863                   12.0   \n",
       "4             0   26                    198.362265                    1.0   \n",
       "\n",
       "   Lifetime  Avg_class_frequency_total  Avg_class_frequency_current_month  \\\n",
       "0         3                   0.020398                           0.000000   \n",
       "1         7                   1.922936                           1.910244   \n",
       "2         2                   1.859098                           1.736502   \n",
       "3         2                   3.205633                           3.357215   \n",
       "4         3                   1.113884                           1.120078   \n",
       "\n",
       "   Churn  \n",
       "0      0  \n",
       "1      0  \n",
       "2      0  \n",
       "3      0  \n",
       "4      0  "
      ]
     },
     "execution_count": 17,
     "metadata": {},
     "output_type": "execute_result"
    }
   ],
   "source": [
    "df.head()"
   ]
  },
  {
   "cell_type": "code",
   "execution_count": 18,
   "metadata": {},
   "outputs": [
    {
     "data": {
      "text/html": [
       "<div>\n",
       "<style scoped>\n",
       "    .dataframe tbody tr th:only-of-type {\n",
       "        vertical-align: middle;\n",
       "    }\n",
       "\n",
       "    .dataframe tbody tr th {\n",
       "        vertical-align: top;\n",
       "    }\n",
       "\n",
       "    .dataframe thead th {\n",
       "        text-align: right;\n",
       "    }\n",
       "</style>\n",
       "<table border=\"1\" class=\"dataframe\">\n",
       "  <thead>\n",
       "    <tr style=\"text-align: right;\">\n",
       "      <th></th>\n",
       "      <th>Near_Location</th>\n",
       "      <th>Partner</th>\n",
       "      <th>Promo_friends</th>\n",
       "      <th>Contract_period</th>\n",
       "      <th>Group_visits</th>\n",
       "      <th>Age</th>\n",
       "      <th>Avg_additional_charges_total</th>\n",
       "      <th>Lifetime</th>\n",
       "      <th>Avg_class_frequency_total</th>\n",
       "      <th>Avg_class_frequency_current_month</th>\n",
       "      <th>Churn</th>\n",
       "    </tr>\n",
       "  </thead>\n",
       "  <tbody>\n",
       "    <tr>\n",
       "      <th>0</th>\n",
       "      <td>1</td>\n",
       "      <td>1</td>\n",
       "      <td>1</td>\n",
       "      <td>6</td>\n",
       "      <td>1</td>\n",
       "      <td>29</td>\n",
       "      <td>14.227470</td>\n",
       "      <td>3</td>\n",
       "      <td>0.020398</td>\n",
       "      <td>0.000000</td>\n",
       "      <td>0</td>\n",
       "    </tr>\n",
       "    <tr>\n",
       "      <th>1</th>\n",
       "      <td>1</td>\n",
       "      <td>0</td>\n",
       "      <td>0</td>\n",
       "      <td>12</td>\n",
       "      <td>1</td>\n",
       "      <td>31</td>\n",
       "      <td>113.202938</td>\n",
       "      <td>7</td>\n",
       "      <td>1.922936</td>\n",
       "      <td>1.910244</td>\n",
       "      <td>0</td>\n",
       "    </tr>\n",
       "    <tr>\n",
       "      <th>2</th>\n",
       "      <td>1</td>\n",
       "      <td>1</td>\n",
       "      <td>0</td>\n",
       "      <td>1</td>\n",
       "      <td>0</td>\n",
       "      <td>28</td>\n",
       "      <td>129.448479</td>\n",
       "      <td>2</td>\n",
       "      <td>1.859098</td>\n",
       "      <td>1.736502</td>\n",
       "      <td>0</td>\n",
       "    </tr>\n",
       "    <tr>\n",
       "      <th>3</th>\n",
       "      <td>1</td>\n",
       "      <td>1</td>\n",
       "      <td>1</td>\n",
       "      <td>12</td>\n",
       "      <td>1</td>\n",
       "      <td>33</td>\n",
       "      <td>62.669863</td>\n",
       "      <td>2</td>\n",
       "      <td>3.205633</td>\n",
       "      <td>3.357215</td>\n",
       "      <td>0</td>\n",
       "    </tr>\n",
       "    <tr>\n",
       "      <th>4</th>\n",
       "      <td>1</td>\n",
       "      <td>1</td>\n",
       "      <td>1</td>\n",
       "      <td>1</td>\n",
       "      <td>0</td>\n",
       "      <td>26</td>\n",
       "      <td>198.362265</td>\n",
       "      <td>3</td>\n",
       "      <td>1.113884</td>\n",
       "      <td>1.120078</td>\n",
       "      <td>0</td>\n",
       "    </tr>\n",
       "  </tbody>\n",
       "</table>\n",
       "</div>"
      ],
      "text/plain": [
       "   Near_Location  Partner  Promo_friends  Contract_period  Group_visits  Age  \\\n",
       "0              1        1              1                6             1   29   \n",
       "1              1        0              0               12             1   31   \n",
       "2              1        1              0                1             0   28   \n",
       "3              1        1              1               12             1   33   \n",
       "4              1        1              1                1             0   26   \n",
       "\n",
       "   Avg_additional_charges_total  Lifetime  Avg_class_frequency_total  \\\n",
       "0                     14.227470         3                   0.020398   \n",
       "1                    113.202938         7                   1.922936   \n",
       "2                    129.448479         2                   1.859098   \n",
       "3                     62.669863         2                   3.205633   \n",
       "4                    198.362265         3                   1.113884   \n",
       "\n",
       "   Avg_class_frequency_current_month  Churn  \n",
       "0                           0.000000      0  \n",
       "1                           1.910244      0  \n",
       "2                           1.736502      0  \n",
       "3                           3.357215      0  \n",
       "4                           1.120078      0  "
      ]
     },
     "execution_count": 18,
     "metadata": {},
     "output_type": "execute_result"
    }
   ],
   "source": [
    "df.drop(columns = ['Month_to_end_contract','gender'],inplace=True)\n",
    "df.head()"
   ]
  },
  {
   "cell_type": "markdown",
   "metadata": {},
   "source": [
    "##  Build a model to predict user churn"
   ]
  },
  {
   "cell_type": "code",
   "execution_count": 19,
   "metadata": {},
   "outputs": [],
   "source": [
    "# divide the data into features (the X matrix) and a target variable (y)\n",
    "X = df.drop('Churn', axis=1)\n",
    "y = df['Churn']\n",
    "\n",
    "# divide the data into train and test sets\n",
    "X_train, X_test, y_train, y_test = train_test_split(X,\n",
    "                                                    y,\n",
    "                                                    test_size=0.3,\n",
    "                                                    random_state=0)"
   ]
  },
  {
   "cell_type": "code",
   "execution_count": 20,
   "metadata": {},
   "outputs": [],
   "source": [
    "# define the model's algorithm\n",
    "lr_model = LogisticRegression(random_state=0)\n",
    "\n",
    "# training model\n",
    "lr_model.fit(X_train, y_train)\n",
    "# binary prediction\n",
    "lr_predictions = lr_model.predict(X_test)\n",
    "# using the trained model to make forecasts\n",
    "lr_probabilities = lr_model.predict_proba(X_test)[:, 1]"
   ]
  },
  {
   "cell_type": "code",
   "execution_count": 21,
   "metadata": {},
   "outputs": [
    {
     "data": {
      "text/plain": [
       "RandomForestClassifier()"
      ]
     },
     "execution_count": 21,
     "metadata": {},
     "output_type": "execute_result"
    }
   ],
   "source": [
    "RandomForestClassifier()"
   ]
  },
  {
   "cell_type": "markdown",
   "metadata": {},
   "source": [
    "Random state set to 0. For the remaining parameters of the tree (its depth max_depth, the size of the feature subset max_features, and the minimum number of objects per node min_samples_leaf), we left the default values unchanged."
   ]
  },
  {
   "cell_type": "code",
   "execution_count": 22,
   "metadata": {},
   "outputs": [],
   "source": [
    "# defining the new model's algorithm based on the random forest algorithm\n",
    "rf_model = RandomForestClassifier(random_state=0, n_estimators=100)\n",
    "#fitting the model  with training datra\n",
    "rf_model.fit(X_train, y_train)\n",
    "\n",
    "# use the trained model to make predictions\n",
    "rf_predictions = rf_model.predict(X_test)  #binary\n",
    "rf_probabilities = rf_model.predict_proba(X_test)[:, 1]  #ratio"
   ]
  },
  {
   "cell_type": "code",
   "execution_count": 23,
   "metadata": {},
   "outputs": [],
   "source": [
    "# define the function that will output metrics\n",
    "def print_all_metrics(y_true, y_pred, y_proba, title='Classification metrics'):\n",
    "     \n",
    "   \n",
    "    print(title)\n",
    "    print('\\tAccuracy: {:.2f}'.format(accuracy_score(y_true, y_pred)))\n",
    "    print('\\tPrecision: {:.2f}'.format(precision_score(y_true, y_pred)))\n",
    "    print('\\tRecall: {:.2f}'.format(recall_score(y_true, y_pred)))\n",
    "    print('\\tF1: {:.2f}'.format(f1_score(y_true, y_pred)))\n",
    "    print('\\tROC_AUC: {:.2f}'.format(roc_auc_score(y_true, y_proba)))"
   ]
  },
  {
   "cell_type": "code",
   "execution_count": 24,
   "metadata": {},
   "outputs": [],
   "source": [
    "# set the threshold  (due to unbalanced set)\n",
    "threshold = .4\n",
    "\n",
    "# calculate prediction on the basis of probabilities and the ratio between classes\n",
    "custom_predictions = [0 if i < threshold else 1 for i in lr_probabilities]"
   ]
  },
  {
   "cell_type": "code",
   "execution_count": 25,
   "metadata": {},
   "outputs": [
    {
     "name": "stdout",
     "output_type": "stream",
     "text": [
      "Metrics for logistic regression (50% Ratio):\n",
      "\tAccuracy: 0.92\n",
      "\tPrecision: 0.85\n",
      "\tRecall: 0.83\n",
      "\tF1: 0.84\n",
      "\tROC_AUC: 0.97\n",
      "\n",
      "Metrics for logistic regression (40% Ratio):\n",
      "\tAccuracy: 0.92\n",
      "\tPrecision: 0.82\n",
      "\tRecall: 0.87\n",
      "\tF1: 0.84\n",
      "\tROC_AUC: 0.89\n"
     ]
    }
   ],
   "source": [
    "# print all studied metrics for the resulting prediction\n",
    "print_all_metrics(y_test,\n",
    "                  lr_predictions,\n",
    "                  lr_probabilities,\n",
    "                  title='Metrics for logistic regression (50% Ratio):')\n",
    "print()\n",
    "print_all_metrics(y_test,\n",
    "                  custom_predictions,\n",
    "                  lr_predictions,\n",
    "                  title='Metrics for logistic regression (40% Ratio):')"
   ]
  },
  {
   "cell_type": "code",
   "execution_count": 26,
   "metadata": {},
   "outputs": [
    {
     "name": "stdout",
     "output_type": "stream",
     "text": [
      "Metrics for random forest:\n",
      "\tAccuracy: 0.92\n",
      "\tPrecision: 0.86\n",
      "\tRecall: 0.83\n",
      "\tF1: 0.84\n",
      "\tROC_AUC: 0.97\n"
     ]
    }
   ],
   "source": [
    "print_all_metrics(y_test,\n",
    "                  rf_predictions,\n",
    "                  rf_probabilities,\n",
    "                  title='Metrics for random forest:')"
   ]
  },
  {
   "cell_type": "markdown",
   "metadata": {},
   "source": [
    " The metrics of special interest would have to be in focusing on catching potential churn members and adding incentives to keep them as members. In addition, those who are more likely to churn will be given the extra attention rather than those with relatively lower risks of churning. As such, reducing the false positive rates will be the metric in choosing the best fit model for the task at hand--focusing on intervention for high-risk churners."
   ]
  },
  {
   "cell_type": "markdown",
   "metadata": {},
   "source": [
    "<div class=\"alert alert-success\">\n",
    "<b>Reviewer's comment</b>\n",
    "\n",
    "The models were trained and evaluated correctly. Conclusion makes sense!\n",
    "\n",
    "</div>"
   ]
  },
  {
   "cell_type": "markdown",
   "metadata": {},
   "source": [
    " **Per the metrics, the most fitting model will therefore be the Logistic Regression one at it's standard 50% threshold.**"
   ]
  },
  {
   "cell_type": "code",
   "execution_count": 27,
   "metadata": {},
   "outputs": [],
   "source": [
    "def plot_confusion_matrix(cm,\n",
    "                          labels,\n",
    "                          normalize=False,\n",
    "                          title='Confusion matrix',\n",
    "                          cmap=plt.cm.Blues):\n",
    "    \"\"\"\n",
    "    This function prints and plots the confusion matrix.\n",
    "    \"\"\"\n",
    "    print('Confusion matrix, without normalization')\n",
    "\n",
    "    fig, ax = plt.subplots(figsize=(15, 6))\n",
    "    sns.heatmap(cm,\n",
    "                cmap=cmap,\n",
    "                annot=True,\n",
    "                square=True,\n",
    "                fmt='.0f',\n",
    "                annot_kws={\"fontsize\": 15})\n",
    "\n",
    "    #title and tick labels\n",
    "    plt.title(title, pad=20, fontsize=20)\n",
    "    ax.set_yticklabels(labels, fontsize=13)\n",
    "    ax.set_xticklabels(labels, fontsize=13)\n",
    "\n",
    "    #label chart settings\n",
    "    plt.ylabel('Label', labelpad=15, fontsize=17)\n",
    "    plt.xlabel('Predicted label', labelpad=15, fontsize=17)\n",
    "    plt.show()"
   ]
  },
  {
   "cell_type": "markdown",
   "metadata": {},
   "source": [
    "# Final Model"
   ]
  },
  {
   "cell_type": "code",
   "execution_count": 28,
   "metadata": {},
   "outputs": [],
   "source": [
    "# defining the new model's algorithm based on the logistic regression\n",
    "final_model = LogisticRegression(random_state=0)\n",
    "final_model.fit(X_train, y_train)\n",
    "\n",
    "# use the trained model to make predictions\n",
    "final_predictions = final_model.predict(X_test)\n",
    "final_probabilities = final_model.predict_proba(X_test)[:, 1]"
   ]
  },
  {
   "cell_type": "code",
   "execution_count": 29,
   "metadata": {},
   "outputs": [
    {
     "name": "stdout",
     "output_type": "stream",
     "text": [
      "Metrics for random forest:\n",
      "\tAccuracy: 0.92\n",
      "\tPrecision: 0.85\n",
      "\tRecall: 0.83\n",
      "\tF1: 0.84\n",
      "\tROC_AUC: 0.97\n"
     ]
    }
   ],
   "source": [
    "print_all_metrics(y_test,\n",
    "                  final_predictions,\n",
    "                  final_probabilities,\n",
    "                  title='Metrics for random forest:')"
   ]
  },
  {
   "cell_type": "code",
   "execution_count": 30,
   "metadata": {},
   "outputs": [
    {
     "name": "stdout",
     "output_type": "stream",
     "text": [
      "Confusion matrix, without normalization\n"
     ]
    },
    {
     "data": {
      "image/png": "[encoded data removed]",
      "text/plain": [
       "<Figure size 1080x432 with 2 Axes>"
      ]
     },
     "metadata": {
      "needs_background": "light"
     },
     "output_type": "display_data"
    }
   ],
   "source": [
    "# Compute confusion matrix\n",
    "cnf_matrix = confusion_matrix(y_test, lr_predictions)\n",
    "\n",
    "plot_confusion_matrix(cnf_matrix,\n",
    "                      normalize=False,\n",
    "                      labels=['Churn', 'No Churn'],\n",
    "                      title='Logistic Regression - Confusion matrix')"
   ]
  },
  {
   "cell_type": "markdown",
   "metadata": {},
   "source": [
    "<div class=\"alert alert-success\">\n",
    "<b>Reviewer's comment</b>\n",
    "\n",
    "A confusion matrix is a good tool for examining classification models! \n",
    "\n",
    "</div>"
   ]
  },
  {
   "cell_type": "code",
   "execution_count": 31,
   "metadata": {},
   "outputs": [
    {
     "name": "stdout",
     "output_type": "stream",
     "text": [
      "[4.3238538]\n"
     ]
    },
    {
     "data": {
      "image/png": "[encoded data removed]",
      "text/plain": [
       "<Figure size 936x432 with 1 Axes>"
      ]
     },
     "metadata": {
      "needs_background": "light"
     },
     "output_type": "display_data"
    }
   ],
   "source": [
    "# print y intercept\n",
    "print(final_model.intercept_)\n",
    "# creating a DataFrame with feature names and importance\n",
    "fi_df = pd.DataFrame(data={\n",
    "    'feature': X.columns,\n",
    "    'importance': final_model.coef_[0]\n",
    "}).sort_values('importance', ascending=False)\n",
    "\n",
    "# horizontal bar chart\n",
    "ax = fi_df.plot.barh(figsize=(13, 6), alpha=.7, legend=False)\n",
    "ax.set_yticklabels([i for i in fi_df['feature'].values])\n",
    "modifyChart(ax, 'Feature Importance', 15, titleSize=20)\n",
    "plt.xlabel(\"Coefficient\")\n",
    "plt.show()"
   ]
  },
  {
   "cell_type": "markdown",
   "metadata": {},
   "source": [
    "Less chance of churning:\n",
    "\n",
    "- avg weekly visits per current month\n",
    "- lifetime  (longer time with company)\n",
    "- group visits\n",
    "- promo friends\n",
    "- contract period"
   ]
  },
  {
   "cell_type": "markdown",
   "metadata": {},
   "source": [
    "<div class=\"alert alert-warning\">\n",
    "<b>Reviewer's comment</b>\n",
    "\n",
    "It's nice that you looked at the weights of the model, although due to multicollinearity (`avg_class_frequency_current_month` and `avg_class_frequency_total` are highly correlated), they are not as reliable as we'd like \n",
    "\n",
    "</div>"
   ]
  },
  {
   "cell_type": "markdown",
   "metadata": {},
   "source": [
    "**User Clusters**\n"
   ]
  },
  {
   "cell_type": "code",
   "execution_count": null,
   "metadata": {},
   "outputs": [],
   "source": [
    "#standardization of data before passing it to the algorithm\n",
    "sc = StandardScaler()\n",
    "X_sc = sc.fit_transform(X)\n",
    "#matrix of distances based on the standardized feature matrix\n",
    "linked = linkage(X_sc, method='ward')"
   ]
  },
  {
   "cell_type": "code",
   "execution_count": null,
   "metadata": {},
   "outputs": [],
   "source": [
    "plt.figure(figsize=(15, 10))\n",
    "\n",
    "#dendogram -> hierarchical clustering treemap\n",
    "dendrogram(linked, orientation='top')\n",
    "plt.title('Hierarchical clustering for Customers')\n",
    "plt.show()"
   ]
  },
  {
   "cell_type": "markdown",
   "metadata": {},
   "source": [
    "Using 5 clusters to create the groups via the K-Means algorithm."
   ]
  },
  {
   "cell_type": "code",
   "execution_count": null,
   "metadata": {},
   "outputs": [],
   "source": [
    "km = KMeans(n_clusters=5)  # setting the number of clusters as 5\n",
    "labels = km.fit_predict(\n",
    "    X_sc)  # applying the algorithm to the data and forming a cluster vector\n",
    "\n",
    "# store cluster labels in the field of our dataset\n",
    "df['customerCluster'] = labels\n",
    "\n",
    "# print the statistics of the mean feature values per cluster\n",
    "paired = df.groupby('customerCluster').mean()\n",
    "paired"
   ]
  },
  {
   "cell_type": "markdown",
   "metadata": {},
   "source": [
    "<div class=\"alert alert-warning\">\n",
    "<b>Reviewer's comment</b>\n",
    "\n",
    "I suggest setting `random_state` of KMeans to make your research reproducible: otherwise clusters can be slightly different every time you run the code due to random initialization of cluster centers\n",
    "\n",
    "</div>"
   ]
  },
  {
   "cell_type": "markdown",
   "metadata": {},
   "source": [
    "0 an 1 lowest chance of churning as well as 4\n",
    "\n"
   ]
  },
  {
   "cell_type": "code",
   "execution_count": null,
   "metadata": {},
   "outputs": [],
   "source": [
    "# silhouette score for the clustering\n",
    "print('Silhouette_score: {:.2f}'.format(silhouette_score(X_sc, labels)))"
   ]
  },
  {
   "cell_type": "markdown",
   "metadata": {},
   "source": [
    "Uers in clusters have some overlapping features. Plotting mean feature values to get a better view of the clusters."
   ]
  },
  {
   "cell_type": "code",
   "execution_count": null,
   "metadata": {},
   "outputs": [],
   "source": [
    "# mean feature values for clusters.\n",
    "fig, ax = plt.subplots(figsize=(15, 12), ncols=2, nrows=5)\n",
    "axes = [(row, col) for row in range(5) for col in range(2)]\n",
    "\n",
    "for col, i in zip(df.drop('Churn', axis=1).columns, axes):\n",
    "    # groupby feature ignored\n",
    "    if 'customerCluster' in col:\n",
    "        continue\n",
    "\n",
    "    # to check if  one unqie value in grouped columns\n",
    "    check = list(df.groupby('customerCluster').agg({col: 'nunique'}).values)\n",
    "    # if so or if unique columns  values are less than 3\n",
    "    if 1 in check or df[col].nunique() <= 3:\n",
    "        # than bar plot\n",
    "        df.groupby('customerCluster').agg({ col: 'mean' }).plot.bar(ax=ax[i], legend=False)\n",
    "        modifyChart(ax[i], col, 10)\n",
    "        continue\n",
    "\n",
    "    # else create a facet grid to display mutliple  distribution plots within one graph\n",
    "    g = sns.FacetGrid(data=df, hue='customerCluster')\n",
    "    g.map(sns.distplot, col, hist=False, rug=True, ax=ax[i])\n",
    "\n",
    "    # chart modifications\n",
    "    [ax[i].spines[spine].set_visible(False) for spine in ['top', 'right']]\n",
    "    modifyChart(ax[i], col, 10)\n",
    "    plt.close()\n",
    "plt.suptitle(\"Mean Feature Values Per Cluster\",fontsize=25,y=1.03)\n",
    "ax[axes[-1]].axis('off')\n",
    "plt.tight_layout()"
   ]
  },
  {
   "cell_type": "markdown",
   "metadata": {},
   "source": [
    "* Cluster 3 users are way more likely to come through a partner company as well be referred through a friend promotion. In addition their contracts are on average 8 months.\n",
    "* Seems like company partners yields a great opportunity due to social nature of fellow employees going to the gym a indicated by the friend promotion prob. and partner company employees probabilities.\n",
    "* Users from cluster 1 all took part of a group session.\n",
    "* Cluster 0 users have the next longest contract at 6 months. In addition, as indicated by their distributions, they are also most likely to take on additional charges, have higher weekly visits, have a much higher lifetime, and are a little older than the other cluster users."
   ]
  },
  {
   "cell_type": "code",
   "execution_count": null,
   "metadata": {},
   "outputs": [],
   "source": [
    "fig, ax = plt.subplots(figsize=(10, 5))\n",
    "#chart with added series for the purposes of diplaying a bar showing aggregate churn rate\n",
    "df.groupby('customerCluster').agg({\n",
    "    'Churn': 'mean'\n",
    "}).append(pd.Series(df['Churn'].mean(), index=('Churn', ),\n",
    "                    name='All')).sort_values(\n",
    "                        'Churn', ascending=False).plot.bar(ax=ax,\n",
    "                                                           alpha=.6,\n",
    "                                                           rot=0,\n",
    "                                                           legend=False)\n",
    "\n",
    "maxs = max([category.get_height() for category in ax.patches])\n",
    "modifyChart(ax, col, 13, maxs=maxs, xLabel='Cluster', yLabel='Churn Rate (%)')\n",
    "\n",
    "ax.set_yticklabels([\"{}%\".format(int(i * 100)) for i in ax.get_yticks()[:]])\n",
    "ax.set_title('Churn', fontsize=18, pad=15)\n",
    "plt.show()"
   ]
  },
  {
   "cell_type": "markdown",
   "metadata": {},
   "source": [
    "Cluster 2,3, and 3 users are the most likely to churn and should be of interest to the company."
   ]
  },
  {
   "cell_type": "code",
   "execution_count": null,
   "metadata": {},
   "outputs": [],
   "source": [
    "# heatmap across column\n",
    "paired.sort_values('Churn',\n",
    "                   ascending=False).transpose().style.background_gradient(\n",
    "                       cmap='Greens', axis=1)"
   ]
  },
  {
   "cell_type": "markdown",
   "metadata": {},
   "source": [
    "* Across the board, the following features as previously shown in our model, decrease the chances of churning the higher their values are:\n",
    "* Total charge, employee of a partner company, longer term contract,promotion though friend, and lifetime in months\n",
    "* Interestingly enough, users coming from clusters with a relatively high churn rate (> 40%) on average last 2 month with the gym. Considering the higher values, for the other clusters, the 2nd month of a cluster will be of interest to the company in terms of customer engagement."
   ]
  },
  {
   "cell_type": "markdown",
   "metadata": {},
   "source": [
    "<div class=\"alert alert-success\">\n",
    "<b>Reviewer's comment</b>\n",
    "\n",
    "Clusters were identified and studied successfully!\n",
    "\n",
    "</div>"
   ]
  },
  {
   "cell_type": "markdown",
   "metadata": {},
   "source": [
    "# Conclusions and Recommendations\n",
    "Based on the previous findings as well as some external reports, here are some recommendations for improving customer retention and churn:\n",
    "\n",
    "1. Company should place an emphasis on fostering group interaction activities such as group classes. This is especially the case for the customer profile seen earlier(average age 29) since according to fitness reports , studies are showing the effectiveness of group classes in improving retention rate for fitness studios for those in the younger generation (see 1 and 2).\n",
    "2. The second month of a user's lifetime should be of special importance to the company. Of those identified at high risk, offer specialized discounts in addition to reaching out to them. (see 3).\n",
    "3. Create stronger relationships with users who identified as having less chances of churning (coming from partner company or those with > 1 month contract). Offer better discounts or packages for both and continue engagement (see 4 and 5)."
   ]
  },
  {
   "cell_type": "markdown",
   "metadata": {},
   "source": [
    "<div class=\"alert alert-warning\">\n",
    "<b>Reviewer's comment</b>\n",
    "\n",
    "Recommendations make sense and are consistent with the data! I didn't get what the references like 'see 1' are to though 🤔\n",
    "\n",
    "</div>"
   ]
  },
  {
   "cell_type": "code",
   "execution_count": null,
   "metadata": {},
   "outputs": [],
   "source": []
  }
 ],
 "metadata": {
  "ExecuteTimeLog": [
   {
    "duration": 1793,
    "start_time": "2022-03-31T05:58:30.127Z"
   },
   {
    "duration": 178,
    "start_time": "2022-03-31T05:59:39.433Z"
   },
   {
    "duration": 23,
    "start_time": "2022-03-31T05:59:57.170Z"
   },
   {
    "duration": 47,
    "start_time": "2022-03-31T07:02:50.539Z"
   },
   {
    "duration": 7,
    "start_time": "2022-03-31T07:08:17.003Z"
   },
   {
    "duration": 7,
    "start_time": "2022-03-31T07:08:31.025Z"
   },
   {
    "duration": 9,
    "start_time": "2022-03-31T07:09:42.436Z"
   },
   {
    "duration": 832,
    "start_time": "2022-03-31T07:10:52.262Z"
   },
   {
    "duration": 126,
    "start_time": "2022-03-31T07:14:10.406Z"
   },
   {
    "duration": 10,
    "start_time": "2022-03-31T07:14:54.205Z"
   },
   {
    "duration": 15,
    "start_time": "2022-03-31T07:15:52.816Z"
   },
   {
    "duration": 14,
    "start_time": "2022-03-31T07:16:49.177Z"
   },
   {
    "duration": 2192,
    "start_time": "2022-03-31T07:17:55.886Z"
   },
   {
    "duration": 14,
    "start_time": "2022-03-31T07:18:27.367Z"
   },
   {
    "duration": 6,
    "start_time": "2022-03-31T07:18:49.760Z"
   },
   {
    "duration": 14,
    "start_time": "2022-03-31T07:19:06.530Z"
   },
   {
    "duration": 4,
    "start_time": "2022-03-31T07:19:32.673Z"
   },
   {
    "duration": 3142,
    "start_time": "2022-03-31T07:19:48.500Z"
   },
   {
    "duration": 4,
    "start_time": "2022-03-31T07:22:05.997Z"
   },
   {
    "duration": 2062,
    "start_time": "2022-03-31T07:22:19.310Z"
   },
   {
    "duration": 8,
    "start_time": "2022-03-31T07:29:37.542Z"
   },
   {
    "duration": 13,
    "start_time": "2022-03-31T07:29:49.617Z"
   },
   {
    "duration": 1163,
    "start_time": "2022-03-31T07:30:06.207Z"
   },
   {
    "duration": 133,
    "start_time": "2022-03-31T07:30:47.293Z"
   },
   {
    "duration": 20,
    "start_time": "2022-03-31T07:31:11.025Z"
   },
   {
    "duration": 868,
    "start_time": "2022-03-31T07:31:25.433Z"
   },
   {
    "duration": 20,
    "start_time": "2022-03-31T07:32:44.951Z"
   },
   {
    "duration": 13,
    "start_time": "2022-03-31T07:33:11.603Z"
   },
   {
    "duration": 14,
    "start_time": "2022-03-31T07:34:15.454Z"
   },
   {
    "duration": 15,
    "start_time": "2022-03-31T07:34:59.285Z"
   },
   {
    "duration": 13,
    "start_time": "2022-03-31T07:36:01.438Z"
   },
   {
    "duration": 8,
    "start_time": "2022-03-31T07:38:03.123Z"
   },
   {
    "duration": 7,
    "start_time": "2022-03-31T07:38:50.768Z"
   },
   {
    "duration": 686,
    "start_time": "2022-03-31T07:38:51.719Z"
   },
   {
    "duration": 5,
    "start_time": "2022-03-31T07:38:53.522Z"
   },
   {
    "duration": 370,
    "start_time": "2022-03-31T07:45:45.593Z"
   },
   {
    "duration": 156,
    "start_time": "2022-03-31T07:46:15.676Z"
   },
   {
    "duration": 4,
    "start_time": "2022-03-31T07:46:29.723Z"
   },
   {
    "duration": 3,
    "start_time": "2022-03-31T07:46:53.132Z"
   },
   {
    "duration": 137,
    "start_time": "2022-03-31T07:47:16.793Z"
   },
   {
    "duration": 21,
    "start_time": "2022-03-31T07:49:03.012Z"
   },
   {
    "duration": 11,
    "start_time": "2022-03-31T07:49:18.134Z"
   },
   {
    "duration": 6,
    "start_time": "2022-03-31T07:52:34.404Z"
   },
   {
    "duration": 551,
    "start_time": "2022-03-31T07:55:17.360Z"
   },
   {
    "duration": 11,
    "start_time": "2022-03-31T07:55:28.141Z"
   },
   {
    "duration": 284,
    "start_time": "2022-03-31T07:55:40.532Z"
   },
   {
    "duration": 211,
    "start_time": "2022-03-31T07:56:39.750Z"
   },
   {
    "duration": 535,
    "start_time": "2022-03-31T07:58:35.353Z"
   },
   {
    "duration": 1663,
    "start_time": "2022-03-31T08:00:51.390Z"
   },
   {
    "duration": 19,
    "start_time": "2022-03-31T08:00:53.055Z"
   },
   {
    "duration": 57,
    "start_time": "2022-03-31T08:00:53.076Z"
   },
   {
    "duration": 7,
    "start_time": "2022-03-31T08:00:53.135Z"
   },
   {
    "duration": 15,
    "start_time": "2022-03-31T08:00:53.144Z"
   },
   {
    "duration": 914,
    "start_time": "2022-03-31T08:00:53.161Z"
   },
   {
    "duration": 4,
    "start_time": "2022-03-31T08:00:54.077Z"
   },
   {
    "duration": 26,
    "start_time": "2022-03-31T08:00:54.083Z"
   },
   {
    "duration": 2951,
    "start_time": "2022-03-31T08:00:54.111Z"
   },
   {
    "duration": 4,
    "start_time": "2022-03-31T08:00:57.065Z"
   },
   {
    "duration": 2047,
    "start_time": "2022-03-31T08:00:57.071Z"
   },
   {
    "duration": 7,
    "start_time": "2022-03-31T08:00:59.120Z"
   },
   {
    "duration": 25,
    "start_time": "2022-03-31T08:00:59.129Z"
   },
   {
    "duration": 1397,
    "start_time": "2022-03-31T08:00:59.155Z"
   },
   {
    "duration": 17,
    "start_time": "2022-03-31T08:01:00.554Z"
   },
   {
    "duration": 995,
    "start_time": "2022-03-31T08:01:00.573Z"
   },
   {
    "duration": 12,
    "start_time": "2022-03-31T08:01:01.570Z"
   },
   {
    "duration": 27,
    "start_time": "2022-03-31T08:01:01.584Z"
   },
   {
    "duration": 20,
    "start_time": "2022-03-31T08:01:01.612Z"
   },
   {
    "duration": 768,
    "start_time": "2022-03-31T08:01:01.634Z"
   },
   {
    "duration": 97,
    "start_time": "2022-03-31T08:01:02.404Z"
   },
   {
    "duration": 498,
    "start_time": "2022-03-31T08:01:02.503Z"
   },
   {
    "duration": 5,
    "start_time": "2022-03-31T08:01:03.003Z"
   },
   {
    "duration": 9,
    "start_time": "2022-03-31T08:01:03.009Z"
   },
   {
    "duration": 24,
    "start_time": "2022-03-31T08:01:03.020Z"
   },
   {
    "duration": 11,
    "start_time": "2022-03-31T08:01:03.046Z"
   },
   {
    "duration": 6,
    "start_time": "2022-03-31T08:01:03.058Z"
   },
   {
    "duration": 707,
    "start_time": "2022-03-31T08:01:03.101Z"
   },
   {
    "duration": 97,
    "start_time": "2022-03-31T08:01:03.810Z"
   },
   {
    "duration": 379,
    "start_time": "2022-03-31T08:01:03.910Z"
   },
   {
    "duration": 231,
    "start_time": "2022-03-31T08:01:04.292Z"
   },
   {
    "duration": 542,
    "start_time": "2022-03-31T08:01:04.525Z"
   },
   {
    "duration": 105923,
    "start_time": "2022-03-31T08:01:05.069Z"
   },
   {
    "duration": 1523,
    "start_time": "2022-03-31T08:13:00.388Z"
   },
   {
    "duration": 550,
    "start_time": "2022-03-31T08:13:54.292Z"
   },
   {
    "duration": 3950,
    "start_time": "2022-03-31T08:15:05.027Z"
   },
   {
    "duration": 156,
    "start_time": "2022-03-31T08:16:29.650Z"
   },
   {
    "duration": 62,
    "start_time": "2022-03-31T08:17:15.405Z"
   },
   {
    "duration": 1779,
    "start_time": "2022-03-31T08:20:06.051Z"
   },
   {
    "duration": 25,
    "start_time": "2022-03-31T08:20:07.833Z"
   },
   {
    "duration": 59,
    "start_time": "2022-03-31T08:20:07.860Z"
   },
   {
    "duration": 9,
    "start_time": "2022-03-31T08:20:07.922Z"
   },
   {
    "duration": 22,
    "start_time": "2022-03-31T08:20:07.934Z"
   },
   {
    "duration": 1250,
    "start_time": "2022-03-31T08:20:07.959Z"
   },
   {
    "duration": 5,
    "start_time": "2022-03-31T08:20:09.212Z"
   },
   {
    "duration": 14,
    "start_time": "2022-03-31T08:20:09.219Z"
   },
   {
    "duration": 3378,
    "start_time": "2022-03-31T08:20:09.236Z"
   },
   {
    "duration": 4,
    "start_time": "2022-03-31T08:20:12.616Z"
   },
   {
    "duration": 2137,
    "start_time": "2022-03-31T08:20:12.622Z"
   },
   {
    "duration": 9,
    "start_time": "2022-03-31T08:20:14.762Z"
   },
   {
    "duration": 42,
    "start_time": "2022-03-31T08:20:14.773Z"
   },
   {
    "duration": 1690,
    "start_time": "2022-03-31T08:20:14.820Z"
   },
   {
    "duration": 26,
    "start_time": "2022-03-31T08:20:16.513Z"
   },
   {
    "duration": 1266,
    "start_time": "2022-03-31T08:20:16.542Z"
   },
   {
    "duration": 20,
    "start_time": "2022-03-31T08:20:17.811Z"
   },
   {
    "duration": 19,
    "start_time": "2022-03-31T08:20:17.833Z"
   },
   {
    "duration": 13,
    "start_time": "2022-03-31T08:20:17.854Z"
   },
   {
    "duration": 2337,
    "start_time": "2022-03-31T08:20:17.869Z"
   },
   {
    "duration": 92,
    "start_time": "2022-03-31T08:20:20.208Z"
   },
   {
    "duration": 678,
    "start_time": "2022-03-31T08:20:20.312Z"
   },
   {
    "duration": 9,
    "start_time": "2022-03-31T08:20:20.992Z"
   },
   {
    "duration": 7,
    "start_time": "2022-03-31T08:20:21.003Z"
   },
   {
    "duration": 28,
    "start_time": "2022-03-31T08:20:21.012Z"
   },
   {
    "duration": 14,
    "start_time": "2022-03-31T08:20:21.042Z"
   },
   {
    "duration": 8,
    "start_time": "2022-03-31T08:20:21.061Z"
   },
   {
    "duration": 347,
    "start_time": "2022-03-31T08:20:21.072Z"
   },
   {
    "duration": 101,
    "start_time": "2022-03-31T08:20:21.502Z"
   },
   {
    "duration": 290,
    "start_time": "2022-03-31T08:20:21.605Z"
   },
   {
    "duration": 239,
    "start_time": "2022-03-31T08:20:21.901Z"
   },
   {
    "duration": 973,
    "start_time": "2022-03-31T08:20:22.144Z"
   },
   {
    "duration": 114583,
    "start_time": "2022-03-31T08:20:23.120Z"
   },
   {
    "duration": 1606,
    "start_time": "2022-03-31T08:22:17.705Z"
   },
   {
    "duration": 561,
    "start_time": "2022-03-31T08:22:19.313Z"
   },
   {
    "duration": 4053,
    "start_time": "2022-03-31T08:22:19.876Z"
   },
   {
    "duration": 160,
    "start_time": "2022-03-31T08:22:23.931Z"
   },
   {
    "duration": 68,
    "start_time": "2022-03-31T08:22:24.093Z"
   },
   {
    "duration": 1315,
    "start_time": "2022-06-08T15:28:03.023Z"
   },
   {
    "duration": 66,
    "start_time": "2022-06-08T15:28:04.339Z"
   },
   {
    "duration": 42,
    "start_time": "2022-06-08T15:28:04.407Z"
   },
   {
    "duration": 6,
    "start_time": "2022-06-08T15:28:04.451Z"
   },
   {
    "duration": 14,
    "start_time": "2022-06-08T15:28:04.458Z"
   },
   {
    "duration": 850,
    "start_time": "2022-06-08T15:28:04.473Z"
   },
   {
    "duration": 4,
    "start_time": "2022-06-08T15:28:05.325Z"
   },
   {
    "duration": 18,
    "start_time": "2022-06-08T15:28:05.330Z"
   },
   {
    "duration": 2999,
    "start_time": "2022-06-08T15:28:05.349Z"
   },
   {
    "duration": 8,
    "start_time": "2022-06-08T15:28:08.351Z"
   },
   {
    "duration": 2016,
    "start_time": "2022-06-08T15:28:08.361Z"
   },
   {
    "duration": 7,
    "start_time": "2022-06-08T15:28:10.379Z"
   },
   {
    "duration": 15,
    "start_time": "2022-06-08T15:28:10.388Z"
   },
   {
    "duration": 1124,
    "start_time": "2022-06-08T15:28:10.404Z"
   },
   {
    "duration": 29,
    "start_time": "2022-06-08T15:28:11.530Z"
   },
   {
    "duration": 863,
    "start_time": "2022-06-08T15:28:11.560Z"
   },
   {
    "duration": 11,
    "start_time": "2022-06-08T15:28:12.424Z"
   },
   {
    "duration": 26,
    "start_time": "2022-06-08T15:28:12.436Z"
   },
   {
    "duration": 10,
    "start_time": "2022-06-08T15:28:12.463Z"
   },
   {
    "duration": 1683,
    "start_time": "2022-06-08T15:28:12.475Z"
   },
   {
    "duration": 99,
    "start_time": "2022-06-08T15:28:14.161Z"
   },
   {
    "duration": 355,
    "start_time": "2022-06-08T15:28:14.261Z"
   },
   {
    "duration": 4,
    "start_time": "2022-06-08T15:28:14.618Z"
   },
   {
    "duration": 7,
    "start_time": "2022-06-08T15:28:14.624Z"
   },
   {
    "duration": 36,
    "start_time": "2022-06-08T15:28:14.633Z"
   },
   {
    "duration": 12,
    "start_time": "2022-06-08T15:28:14.671Z"
   },
   {
    "duration": 7,
    "start_time": "2022-06-08T15:28:14.685Z"
   },
   {
    "duration": 564,
    "start_time": "2022-06-08T15:28:14.696Z"
   },
   {
    "duration": 102,
    "start_time": "2022-06-08T15:28:15.262Z"
   },
   {
    "duration": 397,
    "start_time": "2022-06-08T15:28:15.366Z"
   },
   {
    "duration": 217,
    "start_time": "2022-06-08T15:28:15.764Z"
   },
   {
    "duration": 515,
    "start_time": "2022-06-08T15:28:15.983Z"
   }
  ],
  "kernelspec": {
   "display_name": "Python 3 (ipykernel)",
   "language": "python",
   "name": "python3"
  },
  "language_info": {
   "codemirror_mode": {
    "name": "ipython",
    "version": 3
   },
   "file_extension": ".py",
   "mimetype": "text/x-python",
   "name": "python",
   "nbconvert_exporter": "python",
   "pygments_lexer": "ipython3",
   "version": "3.9.5"
  },
  "toc": {
   "base_numbering": 1,
   "nav_menu": {},
   "number_sections": true,
   "sideBar": true,
   "skip_h1_title": true,
   "title_cell": "Table of Contents",
   "title_sidebar": "Contents",
   "toc_cell": false,
   "toc_position": {},
   "toc_section_display": true,
   "toc_window_display": false
  }
 },
 "nbformat": 4,
 "nbformat_minor": 2
}
